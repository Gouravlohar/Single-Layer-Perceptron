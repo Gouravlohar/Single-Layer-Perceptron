{
  "nbformat": 4,
  "nbformat_minor": 0,
  "metadata": {
    "colab": {
      "provenance": []
    },
    "kernelspec": {
      "name": "python3",
      "display_name": "Python 3"
    },
    "language_info": {
      "name": "python"
    }
  },
  "cells": [
    {
      "cell_type": "code",
      "execution_count": 1,
      "metadata": {
        "colab": {
          "base_uri": "https://localhost:8080/"
        },
        "id": "ODebkdeHaj5k",
        "outputId": "25f71a5d-a17e-4824-e770-7c4c0215c03e"
      },
      "outputs": [
        {
          "output_type": "stream",
          "name": "stdout",
          "text": [
            "1/1 [==============================] - 0s 322ms/step\n",
            "Input: [0 0] - Predicted Output: 0.34376898407936096\n",
            "Input: [0 1] - Predicted Output: 0.45616307854652405\n",
            "Input: [1 0] - Predicted Output: 0.2552771270275116\n",
            "Input: [1 1] - Predicted Output: 0.3543623387813568\n"
          ]
        }
      ],
      "source": [
        "import tensorflow as tf\n",
        "import numpy as np\n",
        "\n",
        "# Logical AND dataset\n",
        "x_train = np.array([[0, 0], [0, 1], [1, 0], [1, 1]])\n",
        "y_train = np.array([0, 0, 0, 1])\n",
        "\n",
        "# Create a single-layer perceptron model\n",
        "model = tf.keras.Sequential([\n",
        "    tf.keras.layers.Dense(1, input_shape=(2,), activation='sigmoid')  # Single output neuron with sigmoid activation\n",
        "])\n",
        "\n",
        "# Compile the model\n",
        "model.compile(optimizer='sgd', loss='mean_squared_error', metrics=['accuracy'])\n",
        "\n",
        "# Train the model\n",
        "model.fit(x_train, y_train, epochs=1000, verbose=0)\n",
        "\n",
        "# Make predictions\n",
        "predictions = model.predict(x_train)\n",
        "\n",
        "for i in range(len(x_train)):\n",
        "    print(f\"Input: {x_train[i]} - Predicted Output: {predictions[i][0]}\")\n"
      ]
    }
  ]
}